{
 "cells": [
  {
   "cell_type": "code",
   "execution_count": 1,
   "id": "249fa2c6",
   "metadata": {},
   "outputs": [
    {
     "name": "stdout",
     "output_type": "stream",
     "text": [
      "Requirement already satisfied: PyAudio in d:\\anaconda\\lib\\site-packages (0.2.13)\n"
     ]
    }
   ],
   "source": [
    "!pip install PyAudio"
   ]
  },
  {
   "cell_type": "code",
   "execution_count": 6,
   "id": "aac0d606",
   "metadata": {},
   "outputs": [
    {
     "name": "stdout",
     "output_type": "stream",
     "text": [
      "Talk\n",
      "Time over, thanks\n",
      "result2:\n",
      "{   'alternative': [   {   'confidence': 0.85136813,\n",
      "                           'transcript': 'hello Ham hello world good morning '\n",
      "                                         'good evening and good afternoon'},\n",
      "                       {   'transcript': 'hello hall hello world good morning '\n",
      "                                         'good evening and good afternoon'},\n",
      "                       {   'transcript': 'hello home hello world good morning '\n",
      "                                         'good evening and good afternoon'},\n",
      "                       {   'transcript': 'hello hum hello world good morning '\n",
      "                                         'good evening and good afternoon'},\n",
      "                       {   'transcript': 'hello whole hello world good morning '\n",
      "                                         'good evening and good afternoon'}],\n",
      "    'final': True}\n",
      "Text: hello Ham hello world good morning good evening and good afternoon\n"
     ]
    }
   ],
   "source": [
    "#import library\n",
    "\n",
    "import speech_recognition as sr\n",
    "\n",
    "# Initialize recognizer class (for recognizing the speech)\n",
    "\n",
    "r = sr.Recognizer()\n",
    "\n",
    "# Reading Microphone as source\n",
    "# listening the speech and store in audio_text variable\n",
    "\n",
    "with sr.Microphone() as source:\n",
    "    print(\"Talk\")#input to start talking\n",
    "    audio_text = r.listen(source)\n",
    "    print(\"Time over, thanks\")\n",
    "# recoginize_() method will throw a request error if the API is unreachable, hence using exception handling\n",
    "    \n",
    "    try:\n",
    "        # using google speech recognition\n",
    "        print(\"Text: \"+r.recognize_google(audio_text))\n",
    "    except:\n",
    "         print(\"Sorry, I did not get that\")"
   ]
  },
  {
   "cell_type": "code",
   "execution_count": null,
   "id": "cfe06675",
   "metadata": {},
   "outputs": [],
   "source": []
  }
 ],
 "metadata": {
  "kernelspec": {
   "display_name": "Python 3 (ipykernel)",
   "language": "python",
   "name": "python3"
  },
  "language_info": {
   "codemirror_mode": {
    "name": "ipython",
    "version": 3
   },
   "file_extension": ".py",
   "mimetype": "text/x-python",
   "name": "python",
   "nbconvert_exporter": "python",
   "pygments_lexer": "ipython3",
   "version": "3.9.13"
  }
 },
 "nbformat": 4,
 "nbformat_minor": 5
}
