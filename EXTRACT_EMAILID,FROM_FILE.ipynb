{
 "cells": [
  {
   "cell_type": "code",
   "execution_count": 2,
   "id": "f050696f",
   "metadata": {},
   "outputs": [
    {
     "name": "stdout",
     "output_type": "stream",
     "text": [
      "6 emails collected!\n"
     ]
    }
   ],
   "source": [
    "import re\n",
    "fileToRead = 'readtext.txt'\n",
    "fileToWrite = 'Data.txt'\n",
    "delimiterInFile = [',', ';']\n",
    "def validateEmail(strEmail):\n",
    "    # .* Zero or more characters of any type. \n",
    "    if re.match(\"(.*)@(.*).(.*)\", strEmail):\n",
    "        return True\n",
    "    return False\n",
    "def writeFile(listData):\n",
    "    file = open(fileToWrite, 'w+')\n",
    "    strData = \"\"\n",
    "    for item in listData:\n",
    "        strData = strData+item+'\\n'\n",
    "    file.write(strData)\n",
    "listEmail = []\n",
    "file = open(fileToRead, 'r') \n",
    "listLine = file.readlines()\n",
    "for itemLine in listLine:\n",
    "    item =str(itemLine)\n",
    "    for delimeter in delimiterInFile:\n",
    "        item = item.replace(str(delimeter),' ')\n",
    "    \n",
    "    wordList = item.split()\n",
    "    for word in wordList:\n",
    "        if(validateEmail(word)):\n",
    "            listEmail.append(word)\n",
    "if listEmail:\n",
    "    uniqEmail = set(listEmail)\n",
    "    print(len(uniqEmail),\"emails collected!\")\n",
    "    writeFile(uniqEmail)\n",
    "else:\n",
    "    print(\"No email found.\")"
   ]
  },
  {
   "cell_type": "code",
   "execution_count": null,
   "id": "25412a12",
   "metadata": {},
   "outputs": [],
   "source": []
  }
 ],
 "metadata": {
  "kernelspec": {
   "display_name": "Python 3 (ipykernel)",
   "language": "python",
   "name": "python3"
  },
  "language_info": {
   "codemirror_mode": {
    "name": "ipython",
    "version": 3
   },
   "file_extension": ".py",
   "mimetype": "text/x-python",
   "name": "python",
   "nbconvert_exporter": "python",
   "pygments_lexer": "ipython3",
   "version": "3.9.13"
  }
 },
 "nbformat": 4,
 "nbformat_minor": 5
}
