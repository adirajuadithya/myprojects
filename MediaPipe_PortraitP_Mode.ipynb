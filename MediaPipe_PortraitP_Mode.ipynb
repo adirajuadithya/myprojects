{
 "cells": [
  {
   "cell_type": "code",
   "execution_count": 1,
   "id": "d3cf45ef",
   "metadata": {},
   "outputs": [],
   "source": [
    "import cv2\n",
    "import dlib\n",
    "import faceBlendCommon as fbc\n",
    "import numpy as np\n",
    "import math\n",
    "img = cv2.imread('gettyimages-1200624305-612x612.jpg')\n",
    "detector = dlib.get_frontal_face_detector()\n",
    "predictor = dlib.shape_predictor(\"shape_predictor_68_face_landmarks.dat\")\n",
    "# Read array of corresponding points\n",
    "# from the faces\n",
    "points1 = fbc.getLandmarks(detector, predictor, img)"
   ]
  },
  {
   "cell_type": "code",
   "execution_count": 2,
   "id": "490b5ebe",
   "metadata": {},
   "outputs": [
    {
     "data": {
      "text/plain": [
       "array([[[0, 0, 0],\n",
       "        [0, 0, 0],\n",
       "        [0, 0, 0],\n",
       "        ...,\n",
       "        [0, 0, 0],\n",
       "        [0, 0, 0],\n",
       "        [0, 0, 0]],\n",
       "\n",
       "       [[0, 0, 0],\n",
       "        [0, 0, 0],\n",
       "        [0, 0, 0],\n",
       "        ...,\n",
       "        [0, 0, 0],\n",
       "        [0, 0, 0],\n",
       "        [0, 0, 0]],\n",
       "\n",
       "       [[0, 0, 0],\n",
       "        [0, 0, 0],\n",
       "        [0, 0, 0],\n",
       "        ...,\n",
       "        [0, 0, 0],\n",
       "        [0, 0, 0],\n",
       "        [0, 0, 0]],\n",
       "\n",
       "       ...,\n",
       "\n",
       "       [[0, 0, 0],\n",
       "        [0, 0, 0],\n",
       "        [0, 0, 0],\n",
       "        ...,\n",
       "        [0, 0, 0],\n",
       "        [0, 0, 0],\n",
       "        [0, 0, 0]],\n",
       "\n",
       "       [[0, 0, 0],\n",
       "        [0, 0, 0],\n",
       "        [0, 0, 0],\n",
       "        ...,\n",
       "        [0, 0, 0],\n",
       "        [0, 0, 0],\n",
       "        [0, 0, 0]],\n",
       "\n",
       "       [[0, 0, 0],\n",
       "        [0, 0, 0],\n",
       "        [0, 0, 0],\n",
       "        ...,\n",
       "        [0, 0, 0],\n",
       "        [0, 0, 0],\n",
       "        [0, 0, 0]]], dtype=uint8)"
      ]
     },
     "execution_count": 2,
     "metadata": {},
     "output_type": "execute_result"
    }
   ],
   "source": [
    "hullIndex = cv2.convexHull(np.array(points1).astype(np.int32), returnPoints=False) \n",
    "# Create convex hull lists\n",
    "hull1 = []\n",
    "for i in range(0, len(hullIndex)):\n",
    "    hull1.append(points1[hullIndex[i][0]])\n",
    "hull_outer = []\n",
    "for i in range(0, len(hull1)):\n",
    "    hull_outer.append((hull1[i][0], hull1[i][1]))\n",
    "mask = np.zeros(img.shape, dtype=img.dtype) \n",
    "cv2.fillConvexPoly(mask, np.int32(hull_outer), (255, 255, 255))"
   ]
  },
  {
   "cell_type": "code",
   "execution_count": 3,
   "id": "2c0f0a39",
   "metadata": {},
   "outputs": [],
   "source": [
    "tempImg = img.copy()\n",
    "tempImg = cv2.blur(tempImg,(4,4))\n",
    "mask_inv = cv2.bitwise_not(mask)\n",
    "img1_bg = cv2.bitwise_and(img,mask)\n",
    "img2_fg = cv2.bitwise_and(tempImg,mask_inv)\n",
    "img_n = cv2.add(img1_bg,img2_fg)"
   ]
  },
  {
   "cell_type": "code",
   "execution_count": 4,
   "id": "b088523d",
   "metadata": {},
   "outputs": [],
   "source": [
    "m = cv2.moments(mask[:,:,1])\n",
    "# a random point chosen\n",
    "# to calculate radius\n",
    "k=points1[0]\n",
    "# Add your Focus cordinates here\n",
    "# m10/m00 and m01/m00 are the center of the mask \n",
    "fx,fy = int(m['m10']/m['m00']), int(m['m01']/m['m00']) \n",
    "dist = math. sqrt((k[0]-fx)**2 + (k[1]-fy)**2)\n",
    "# Standard Deviation of the Gaussian\n",
    "sigma = dist \n",
    "rows,cols = img.shape[:2]\n",
    "potrait = np.copy(img_n)\n",
    "potrait[:,:,:] = 0\n",
    "a = cv2.getGaussianKernel(2*cols ,sigma)[cols-fx:2*cols-fx]\n",
    "b = cv2.getGaussianKernel(2*rows ,sigma)[rows-fy:2*rows-fy]\n",
    "c = b*a.T\n",
    "d = c/c.max()\n",
    "potrait[:,:,0] = img_n[:,:,0]*d\n",
    "potrait[:,:,1] = img_n[:,:,1]*d\n",
    "potrait[:,:,2] = img_n[:,:,2]*d"
   ]
  },
  {
   "cell_type": "code",
   "execution_count": 5,
   "id": "9d148dce",
   "metadata": {},
   "outputs": [
    {
     "data": {
      "text/plain": [
       "True"
      ]
     },
     "execution_count": 5,
     "metadata": {},
     "output_type": "execute_result"
    }
   ],
   "source": [
    "potrait = cv2.cvtColor(potrait, cv2.COLOR_BGR2GRAY )\n",
    "cv2.imwrite('potrait_mode.png',potrait)"
   ]
  },
  {
   "cell_type": "code",
   "execution_count": null,
   "id": "e1ad8780",
   "metadata": {},
   "outputs": [],
   "source": []
  }
 ],
 "metadata": {
  "kernelspec": {
   "display_name": "Python 3 (ipykernel)",
   "language": "python",
   "name": "python3"
  },
  "language_info": {
   "codemirror_mode": {
    "name": "ipython",
    "version": 3
   },
   "file_extension": ".py",
   "mimetype": "text/x-python",
   "name": "python",
   "nbconvert_exporter": "python",
   "pygments_lexer": "ipython3",
   "version": "3.9.13"
  }
 },
 "nbformat": 4,
 "nbformat_minor": 5
}
